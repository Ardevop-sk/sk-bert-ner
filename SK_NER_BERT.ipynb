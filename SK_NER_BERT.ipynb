{
  "nbformat": 4,
  "nbformat_minor": 0,
  "metadata": {
    "colab": {
      "name": "NER BERT TPU",
      "provenance": [],
      "collapsed_sections": [],
      "include_colab_link": true
    },
    "kernelspec": {
      "name": "python3",
      "display_name": "Python 3"
    },
    "accelerator": "GPU"
  },
  "cells": [
    {
      "cell_type": "markdown",
      "metadata": {
        "id": "view-in-github",
        "colab_type": "text"
      },
      "source": [
        "<a href=\"https://colab.research.google.com/github/Ardevop-sk/sk-bert-ner/blob/master/SK_NER_BERT.ipynb\" target=\"_parent\"><img src=\"https://colab.research.google.com/assets/colab-badge.svg\" alt=\"Open In Colab\"/></a>"
      ]
    },
    {
      "cell_type": "markdown",
      "metadata": {
        "id": "E2XB_l-Hgzq_",
        "colab_type": "text"
      },
      "source": [
        "# Training BERT for Named Entity Recognition in Slovak language"
      ]
    },
    {
      "cell_type": "markdown",
      "metadata": {
        "id": "vZPgpRl5g2e2",
        "colab_type": "text"
      },
      "source": [
        "In this experiment, we will be training a state-of-the-art Natural Language Understanding model [BERT](https://arxiv.org/abs/1810.04805.) on manually annotated corpus of Court decisions from https://ru.justice.sk/ data using Google Cloud infrastructure.\n",
        "\n",
        "This guide covers all stages of the procedure, including:\n",
        "\n",
        "1. Setting up the training environment\n",
        "2. Getting the data\n",
        "3. Preparing models\n",
        "4. Training model on cloud GPU\n",
        "5. Evaluate the results\n",
        "6. Uploading model to GCS (optional)\n",
        "7. Serving BERT model for NER as a Service\n",
        "8. Testing the services\n",
        "\n",
        "For persistent storage of training data and model, you will require a Google Cloud Storage bucket. \n",
        "Please follow the [Google Cloud TPU quickstart](https://cloud.google.com/tpu/docs/quickstart) to create a GCP account and GCS bucket. New Google Cloud users have [$300 free credit](https://cloud.google.com/free/) to get started with any GCP product.\n",
        "This document is based on document from: https://towardsdatascience.com/pre-training-bert-from-scratch-with-cloud-tpu-6e2f71028379"
      ]
    },
    {
      "cell_type": "markdown",
      "metadata": {
        "id": "ODimOhBR05yR",
        "colab_type": "text"
      },
      "source": [
        "MIT License\n",
        "\n",
        "Copyright (c) [2020] [Filip Bednárik]\n",
        "\n",
        "Permission is hereby granted, free of charge, to any person obtaining a copy\n",
        "of this software and associated documentation files (the \"Software\"), to deal\n",
        "in the Software without restriction, including without limitation the rights\n",
        "to use, copy, modify, merge, publish, distribute, sublicense, and/or sell\n",
        "copies of the Software, and to permit persons to whom the Software is\n",
        "furnished to do so, subject to the following conditions:\n",
        "\n",
        "The above copyright notice and this permission notice shall be included in all\n",
        "copies or substantial portions of the Software.\n",
        "\n",
        "THE SOFTWARE IS PROVIDED \"AS IS\", WITHOUT WARRANTY OF ANY KIND, EXPRESS OR\n",
        "IMPLIED, INCLUDING BUT NOT LIMITED TO THE WARRANTIES OF MERCHANTABILITY,\n",
        "FITNESS FOR A PARTICULAR PURPOSE AND NONINFRINGEMENT. IN NO EVENT SHALL THE\n",
        "AUTHORS OR COPYRIGHT HOLDERS BE LIABLE FOR ANY CLAIM, DAMAGES OR OTHER\n",
        "LIABILITY, WHETHER IN AN ACTION OF CONTRACT, TORT OR OTHERWISE, ARISING FROM,\n",
        "OUT OF OR IN CONNECTION WITH THE SOFTWARE OR THE USE OR OTHER DEALINGS IN THE\n",
        "SOFTWARE."
      ]
    },
    {
      "cell_type": "markdown",
      "metadata": {
        "id": "Fjad5jsr9YaM",
        "colab_type": "text"
      },
      "source": [
        "## Step 1: setting up training environment\n",
        "You will need to set the Runtime -> Change runtime type to GPU or TPU.\n",
        "\n",
        "We need to install BERT and download python scripts for training.\n",
        "The Jupyter environment allows executing bash commands directly from the notebook by using an exclamation mark ‘!’. We will be exploiting this approach to make use of several other bash commands throughout the experiment."
      ]
    },
    {
      "cell_type": "code",
      "metadata": {
        "id": "vvfNt0mVZ33n",
        "colab_type": "code",
        "colab": {}
      },
      "source": [
        "!pip install bert-tensorflow\n",
        "!git clone https://github.com/Ardevop-sk/BERT-NER.git"
      ],
      "execution_count": 0,
      "outputs": []
    },
    {
      "cell_type": "code",
      "metadata": {
        "id": "9S4CiOh3RzFW",
        "colab_type": "code",
        "colab": {}
      },
      "source": [
        "import os\n",
        "import sys\n",
        "import json\n",
        "import nltk\n",
        "import random\n",
        "import logging\n",
        "import tensorflow as tf\n",
        "\n",
        "from glob import glob\n",
        "from google.colab import auth, drive\n",
        "from tensorflow.keras.utils import Progbar\n",
        "  \n",
        "# configure logging\n",
        "log = logging.getLogger('tensorflow')\n",
        "log.setLevel(logging.INFO)\n",
        "\n",
        "# create formatter and add it to the handlers\n",
        "formatter = logging.Formatter('%(asctime)s :  %(message)s')\n",
        "sh = logging.StreamHandler()\n",
        "sh.setLevel(logging.INFO)\n",
        "sh.setFormatter(formatter)\n",
        "log.handlers = [sh]"
      ],
      "execution_count": 0,
      "outputs": []
    },
    {
      "cell_type": "markdown",
      "metadata": {
        "id": "o-6fBVe0DuA9",
        "colab_type": "text"
      },
      "source": [
        "We need to authenticate with google to use GCS later."
      ]
    },
    {
      "cell_type": "code",
      "metadata": {
        "id": "DmjYPdDNSsiL",
        "colab_type": "code",
        "colab": {}
      },
      "source": [
        "auth.authenticate_user()"
      ],
      "execution_count": 0,
      "outputs": []
    },
    {
      "cell_type": "markdown",
      "metadata": {
        "id": "Bt5sfpJ5RJRo",
        "colab_type": "text"
      },
      "source": [
        "Optionally initialized TPU"
      ]
    },
    {
      "cell_type": "code",
      "metadata": {
        "id": "mI0STeRRG6ID",
        "colab_type": "code",
        "colab": {}
      },
      "source": [
        "if 'COLAB_TPU_ADDR' in os.environ:\n",
        "  log.info(\"Using TPU runtime\")\n",
        "  USE_TPU = True\n",
        "  TPU_ADDRESS = 'grpc://' + os.environ['COLAB_TPU_ADDR']\n",
        "\n",
        "  with tf.Session(TPU_ADDRESS) as session:\n",
        "    log.info('TPU address is ' + TPU_ADDRESS)\n",
        "    # Upload credentials to TPU.\n",
        "    with open('/content/adc.json', 'r') as f:\n",
        "      auth_info = json.load(f)\n",
        "    tf.contrib.cloud.configure_gcs(session, credentials=auth_info)\n",
        "    \n",
        "else:\n",
        "  log.warning('Not connected to TPU runtime')\n",
        "  USE_TPU = False"
      ],
      "execution_count": 0,
      "outputs": []
    },
    {
      "cell_type": "markdown",
      "metadata": {
        "id": "PGVXMoC-aMy1",
        "colab_type": "text"
      },
      "source": [
        "## Step 2: Getting the data\n"
      ]
    },
    {
      "cell_type": "markdown",
      "metadata": {
        "id": "tnvZvzmdDz3G",
        "colab_type": "text"
      },
      "source": [
        "We either upload or crawl and transform data to following format:\n",
        "\n",
        "```\n",
        "My O\n",
        "name O\n",
        "is O\n",
        "Filip I-PERSON\n",
        ". O\n",
        "\n",
        "This O\n",
        "is O\n",
        "second O\n",
        "sentence O\n",
        ". O\n",
        "```\n",
        "\n",
        "Note that code accepts input divided by space \" \" or tab \"\\t\". Note: You don't need to filter columns if your corpus has more columns divided by space or tab. The only condition is that the first column is input token and last column is the NER label.\n"
      ]
    },
    {
      "cell_type": "markdown",
      "metadata": {
        "id": "e1jA-WlcFAcE",
        "colab_type": "text"
      },
      "source": [
        "### 2.1a Uploading the data"
      ]
    },
    {
      "cell_type": "code",
      "metadata": {
        "id": "FotFkkshbdvK",
        "colab_type": "code",
        "colab": {}
      },
      "source": [
        "!ls -la\n",
        "!cd BERT-NER/data\n",
        "from google.colab import files\n",
        "uploadedTrain = files.upload()\n",
        "uploadedDev = files.upload()\n",
        "uploadedTest = files.upload()\n",
        "!ls -la"
      ],
      "execution_count": 0,
      "outputs": []
    },
    {
      "cell_type": "markdown",
      "metadata": {
        "id": "wjg8TruFFQmx",
        "colab_type": "text"
      },
      "source": [
        "### 2.1b Crawl and transform the data"
      ]
    },
    {
      "cell_type": "code",
      "metadata": {
        "id": "QfY9RtJCYvbq",
        "colab_type": "code",
        "colab": {
          "base_uri": "https://localhost:8080/",
          "height": 289
        },
        "outputId": "0d3c05e8-ef06-4396-d61a-6253bb00852f"
      },
      "source": [
        "!pip install beautifulsoup4\n",
        "!pip install zeep\n",
        "!mkdir data"
      ],
      "execution_count": 31,
      "outputs": [
        {
          "output_type": "stream",
          "text": [
            "Requirement already satisfied: beautifulsoup4 in /usr/local/lib/python3.6/dist-packages (4.6.3)\n",
            "Requirement already satisfied: zeep in /usr/local/lib/python3.6/dist-packages (3.4.0)\n",
            "Requirement already satisfied: six>=1.9.0 in /usr/local/lib/python3.6/dist-packages (from zeep) (1.12.0)\n",
            "Requirement already satisfied: attrs>=17.2.0 in /usr/local/lib/python3.6/dist-packages (from zeep) (19.3.0)\n",
            "Requirement already satisfied: cached-property>=1.3.0 in /usr/local/lib/python3.6/dist-packages (from zeep) (1.5.1)\n",
            "Requirement already satisfied: lxml>=3.1.0 in /usr/local/lib/python3.6/dist-packages (from zeep) (4.2.6)\n",
            "Requirement already satisfied: defusedxml>=0.4.1 in /usr/local/lib/python3.6/dist-packages (from zeep) (0.6.0)\n",
            "Requirement already satisfied: requests>=2.7.0 in /usr/local/lib/python3.6/dist-packages (from zeep) (2.21.0)\n",
            "Requirement already satisfied: pytz in /usr/local/lib/python3.6/dist-packages (from zeep) (2018.9)\n",
            "Requirement already satisfied: isodate>=0.5.4 in /usr/local/lib/python3.6/dist-packages (from zeep) (0.6.0)\n",
            "Requirement already satisfied: requests-toolbelt>=0.7.1 in /usr/local/lib/python3.6/dist-packages (from zeep) (0.9.1)\n",
            "Requirement already satisfied: appdirs>=1.4.0 in /usr/local/lib/python3.6/dist-packages (from zeep) (1.4.3)\n",
            "Requirement already satisfied: urllib3<1.25,>=1.21.1 in /usr/local/lib/python3.6/dist-packages (from requests>=2.7.0->zeep) (1.24.3)\n",
            "Requirement already satisfied: certifi>=2017.4.17 in /usr/local/lib/python3.6/dist-packages (from requests>=2.7.0->zeep) (2019.11.28)\n",
            "Requirement already satisfied: chardet<3.1.0,>=3.0.2 in /usr/local/lib/python3.6/dist-packages (from requests>=2.7.0->zeep) (3.0.4)\n",
            "Requirement already satisfied: idna<2.9,>=2.5 in /usr/local/lib/python3.6/dist-packages (from requests>=2.7.0->zeep) (2.8)\n"
          ],
          "name": "stdout"
        }
      ]
    },
    {
      "cell_type": "code",
      "metadata": {
        "id": "EfSaTgMjZHO4",
        "colab_type": "code",
        "colab": {
          "base_uri": "https://localhost:8080/",
          "height": 867
        },
        "outputId": "49438e84-5ffb-4ae3-a87d-f716f859c8ca"
      },
      "source": [
        "import requests\n",
        "from bs4 import BeautifulSoup\n",
        "from zeep import Client, Settings\n",
        "import math\n",
        "\n",
        "settings = Settings(strict=False, xml_huge_tree=True)\n",
        "\n",
        "ruWsClient = Client('https://ru-ws.justice.sk/ru-verejnost-ws/konanieService.wsdl', settings=settings)\n",
        "\n",
        "pageCountResult = ruWsClient.service.getKonaniePreObdobie(DatumOd='1990-01-01',DatumDo='2020-01-01',VysledkovNaStranku=100,Stranka=0)\n",
        "print(pageCountResult.VysledkovCelkom)\n",
        "for i in range(math.ceil(pageCountResult.VysledkovCelkom/100)):\n",
        "  print(\"page %s\" % i)\n",
        "  pageResult = ruWsClient.service.getKonaniePreObdobie(DatumOd='1990-01-01',DatumDo='2020-01-01',VysledkovNaStranku=100,Stranka=i)\n",
        "  for konanieInfo in pageResult.KonanieInfoList.KonanieInfo:\n",
        "    oznamyUrl = \"https://ru.justice.sk/ru-verejnost-web/pages/obchodnyVestnik/oznamyList.xhtml?konanieId=\" + str(konanieInfo.Id)\n",
        "    print(oznamyUrl)\n",
        "    oznamyData = requests.get(oznamyUrl)\n",
        "    oznamyDOM = BeautifulSoup(oznamyData.content, 'html.parser')\n",
        "    oznamyTable = oznamyDOM.body.find(id='vestnikForm:oVTable_data')\n",
        "    oznamyRows = oznamyTable.find_all('tr')\n",
        "    for oznamyRow in oznamyRows:\n",
        "      zverejnil = oznamyRow.find_all('td')[1]\n",
        "      detail = oznamyRow.find_all('td')[2]\n",
        "      if zverejnil is not None and \"súd\" in zverejnil.text:\n",
        "        uznesenieUrl = detail.a['href']\n",
        "        print(uznesenieUrl)\n",
        "        uznesenieData = requests.get('https://ru.justice.sk'+uznesenieUrl)\n",
        "        uznesenieDOM = BeautifulSoup(uznesenieData.content, 'html.parser')\n",
        "        uznesenieDataRows = uznesenieDOM.select('div.blok div.row')\n",
        "        ics = None\n",
        "        datumVydania = None\n",
        "        textRozhodnutia = \"\"\n",
        "        druh = None\n",
        "        for uznesenieDataRow in uznesenieDataRows:\n",
        "          uznesenieKeyValue = uznesenieDataRow.find_all('div')\n",
        "          label = uznesenieKeyValue[0]\n",
        "          value = uznesenieKeyValue[1]\n",
        "          if('Druh:' in label.text):\n",
        "            druh = value.text.strip()\n",
        "          if('ICS:' in label.text):\n",
        "            ics = value.text.strip()\n",
        "          elif('Dátum vydania:' in label.text):\n",
        "            datumVydania = value.text.strip()\n",
        "          elif('Hlavička:' in label.text or 'Rozhodnutie:' in label.text or 'Poučenie:' in label.text):\n",
        "            textRozhodnutia += value.text.strip() + \" \"\n",
        "\n",
        "        if ics is not None and datumVydania is not None and textRozhodnutia != \"\" and druh is not None and \"Uznesenie\" in druh:\n",
        "          text_file = open(\"data/\"+ ics + \".txt\", \"w\")\n",
        "          text_file.write(textRozhodnutia)\n",
        "          text_file.close()\n",
        "  break"
      ],
      "execution_count": 32,
      "outputs": [
        {
          "output_type": "stream",
          "text": [
            "43953\n",
            "page 0\n",
            "https://ru.justice.sk/ru-verejnost-web/pages/obchodnyVestnik/oznamyList.xhtml?konanieId=3\n",
            "/ru-verejnost-web/pages/obchodnyVestnik/detailOV.xhtml?vestnikPodanieId=162252\n",
            "https://ru.justice.sk/ru-verejnost-web/pages/obchodnyVestnik/oznamyList.xhtml?konanieId=4\n",
            "/ru-verejnost-web/pages/obchodnyVestnik/detailOV.xhtml?vestnikPodanieId=250526\n",
            "/ru-verejnost-web/pages/obchodnyVestnik/detailOV.xhtml?vestnikPodanieId=249437\n",
            "/ru-verejnost-web/pages/obchodnyVestnik/detailOV.xhtml?vestnikPodanieId=246105\n",
            "/ru-verejnost-web/pages/obchodnyVestnik/detailOV.xhtml?vestnikPodanieId=223229\n",
            "/ru-verejnost-web/pages/obchodnyVestnik/detailOV.xhtml?vestnikPodanieId=219840\n",
            "/ru-verejnost-web/pages/obchodnyVestnik/detailOV.xhtml?vestnikPodanieId=193763\n",
            "/ru-verejnost-web/pages/obchodnyVestnik/detailOV.xhtml?vestnikPodanieId=160438\n",
            "/ru-verejnost-web/pages/obchodnyVestnik/detailOV.xhtml?vestnikPodanieId=145791\n",
            "/ru-verejnost-web/pages/obchodnyVestnik/detailOV.xhtml?vestnikPodanieId=139922\n",
            "/ru-verejnost-web/pages/obchodnyVestnik/detailOV.xhtml?vestnikPodanieId=115217\n",
            "/ru-verejnost-web/pages/obchodnyVestnik/detailOV.xhtml?vestnikPodanieId=124804\n",
            "https://ru.justice.sk/ru-verejnost-web/pages/obchodnyVestnik/oznamyList.xhtml?konanieId=5\n",
            "/ru-verejnost-web/pages/obchodnyVestnik/detailOV.xhtml?vestnikPodanieId=581018\n",
            "/ru-verejnost-web/pages/obchodnyVestnik/detailOV.xhtml?vestnikPodanieId=572324\n",
            "/ru-verejnost-web/pages/obchodnyVestnik/detailOV.xhtml?vestnikPodanieId=572029\n",
            "/ru-verejnost-web/pages/obchodnyVestnik/detailOV.xhtml?vestnikPodanieId=195244\n",
            "/ru-verejnost-web/pages/obchodnyVestnik/detailOV.xhtml?vestnikPodanieId=171523\n",
            "/ru-verejnost-web/pages/obchodnyVestnik/detailOV.xhtml?vestnikPodanieId=152252\n",
            "/ru-verejnost-web/pages/obchodnyVestnik/detailOV.xhtml?vestnikPodanieId=149720\n",
            "/ru-verejnost-web/pages/obchodnyVestnik/detailOV.xhtml?vestnikPodanieId=123480\n",
            "/ru-verejnost-web/pages/obchodnyVestnik/detailOV.xhtml?vestnikPodanieId=118257\n",
            "https://ru.justice.sk/ru-verejnost-web/pages/obchodnyVestnik/oznamyList.xhtml?konanieId=6\n",
            "/ru-verejnost-web/pages/obchodnyVestnik/detailOV.xhtml?vestnikPodanieId=286496\n",
            "/ru-verejnost-web/pages/obchodnyVestnik/detailOV.xhtml?vestnikPodanieId=273838\n"
          ],
          "name": "stdout"
        },
        {
          "output_type": "error",
          "ename": "KeyboardInterrupt",
          "evalue": "ignored",
          "traceback": [
            "\u001b[0;31m---------------------------------------------------------------------------\u001b[0m",
            "\u001b[0;31mKeyboardInterrupt\u001b[0m                         Traceback (most recent call last)",
            "\u001b[0;32m<ipython-input-32-ec3df9f09451>\u001b[0m in \u001b[0;36m<module>\u001b[0;34m()\u001b[0m\n\u001b[1;32m     26\u001b[0m         \u001b[0muznesenieUrl\u001b[0m \u001b[0;34m=\u001b[0m \u001b[0mdetail\u001b[0m\u001b[0;34m.\u001b[0m\u001b[0ma\u001b[0m\u001b[0;34m[\u001b[0m\u001b[0;34m'href'\u001b[0m\u001b[0;34m]\u001b[0m\u001b[0;34m\u001b[0m\u001b[0;34m\u001b[0m\u001b[0m\n\u001b[1;32m     27\u001b[0m         \u001b[0mprint\u001b[0m\u001b[0;34m(\u001b[0m\u001b[0muznesenieUrl\u001b[0m\u001b[0;34m)\u001b[0m\u001b[0;34m\u001b[0m\u001b[0;34m\u001b[0m\u001b[0m\n\u001b[0;32m---> 28\u001b[0;31m         \u001b[0muznesenieData\u001b[0m \u001b[0;34m=\u001b[0m \u001b[0mrequests\u001b[0m\u001b[0;34m.\u001b[0m\u001b[0mget\u001b[0m\u001b[0;34m(\u001b[0m\u001b[0;34m'https://ru.justice.sk'\u001b[0m\u001b[0;34m+\u001b[0m\u001b[0muznesenieUrl\u001b[0m\u001b[0;34m)\u001b[0m\u001b[0;34m\u001b[0m\u001b[0;34m\u001b[0m\u001b[0m\n\u001b[0m\u001b[1;32m     29\u001b[0m         \u001b[0muznesenieDOM\u001b[0m \u001b[0;34m=\u001b[0m \u001b[0mBeautifulSoup\u001b[0m\u001b[0;34m(\u001b[0m\u001b[0muznesenieData\u001b[0m\u001b[0;34m.\u001b[0m\u001b[0mcontent\u001b[0m\u001b[0;34m,\u001b[0m \u001b[0;34m'html.parser'\u001b[0m\u001b[0;34m)\u001b[0m\u001b[0;34m\u001b[0m\u001b[0;34m\u001b[0m\u001b[0m\n\u001b[1;32m     30\u001b[0m         \u001b[0muznesenieDataRows\u001b[0m \u001b[0;34m=\u001b[0m \u001b[0muznesenieDOM\u001b[0m\u001b[0;34m.\u001b[0m\u001b[0mselect\u001b[0m\u001b[0;34m(\u001b[0m\u001b[0;34m'div.blok div.row'\u001b[0m\u001b[0;34m)\u001b[0m\u001b[0;34m\u001b[0m\u001b[0;34m\u001b[0m\u001b[0m\n",
            "\u001b[0;32m/usr/local/lib/python3.6/dist-packages/requests/api.py\u001b[0m in \u001b[0;36mget\u001b[0;34m(url, params, **kwargs)\u001b[0m\n\u001b[1;32m     73\u001b[0m \u001b[0;34m\u001b[0m\u001b[0m\n\u001b[1;32m     74\u001b[0m     \u001b[0mkwargs\u001b[0m\u001b[0;34m.\u001b[0m\u001b[0msetdefault\u001b[0m\u001b[0;34m(\u001b[0m\u001b[0;34m'allow_redirects'\u001b[0m\u001b[0;34m,\u001b[0m \u001b[0;32mTrue\u001b[0m\u001b[0;34m)\u001b[0m\u001b[0;34m\u001b[0m\u001b[0;34m\u001b[0m\u001b[0m\n\u001b[0;32m---> 75\u001b[0;31m     \u001b[0;32mreturn\u001b[0m \u001b[0mrequest\u001b[0m\u001b[0;34m(\u001b[0m\u001b[0;34m'get'\u001b[0m\u001b[0;34m,\u001b[0m \u001b[0murl\u001b[0m\u001b[0;34m,\u001b[0m \u001b[0mparams\u001b[0m\u001b[0;34m=\u001b[0m\u001b[0mparams\u001b[0m\u001b[0;34m,\u001b[0m \u001b[0;34m**\u001b[0m\u001b[0mkwargs\u001b[0m\u001b[0;34m)\u001b[0m\u001b[0;34m\u001b[0m\u001b[0;34m\u001b[0m\u001b[0m\n\u001b[0m\u001b[1;32m     76\u001b[0m \u001b[0;34m\u001b[0m\u001b[0m\n\u001b[1;32m     77\u001b[0m \u001b[0;34m\u001b[0m\u001b[0m\n",
            "\u001b[0;32m/usr/local/lib/python3.6/dist-packages/requests/api.py\u001b[0m in \u001b[0;36mrequest\u001b[0;34m(method, url, **kwargs)\u001b[0m\n\u001b[1;32m     58\u001b[0m     \u001b[0;31m# cases, and look like a memory leak in others.\u001b[0m\u001b[0;34m\u001b[0m\u001b[0;34m\u001b[0m\u001b[0;34m\u001b[0m\u001b[0m\n\u001b[1;32m     59\u001b[0m     \u001b[0;32mwith\u001b[0m \u001b[0msessions\u001b[0m\u001b[0;34m.\u001b[0m\u001b[0mSession\u001b[0m\u001b[0;34m(\u001b[0m\u001b[0;34m)\u001b[0m \u001b[0;32mas\u001b[0m \u001b[0msession\u001b[0m\u001b[0;34m:\u001b[0m\u001b[0;34m\u001b[0m\u001b[0;34m\u001b[0m\u001b[0m\n\u001b[0;32m---> 60\u001b[0;31m         \u001b[0;32mreturn\u001b[0m \u001b[0msession\u001b[0m\u001b[0;34m.\u001b[0m\u001b[0mrequest\u001b[0m\u001b[0;34m(\u001b[0m\u001b[0mmethod\u001b[0m\u001b[0;34m=\u001b[0m\u001b[0mmethod\u001b[0m\u001b[0;34m,\u001b[0m \u001b[0murl\u001b[0m\u001b[0;34m=\u001b[0m\u001b[0murl\u001b[0m\u001b[0;34m,\u001b[0m \u001b[0;34m**\u001b[0m\u001b[0mkwargs\u001b[0m\u001b[0;34m)\u001b[0m\u001b[0;34m\u001b[0m\u001b[0;34m\u001b[0m\u001b[0m\n\u001b[0m\u001b[1;32m     61\u001b[0m \u001b[0;34m\u001b[0m\u001b[0m\n\u001b[1;32m     62\u001b[0m \u001b[0;34m\u001b[0m\u001b[0m\n",
            "\u001b[0;32m/usr/local/lib/python3.6/dist-packages/requests/sessions.py\u001b[0m in \u001b[0;36mrequest\u001b[0;34m(self, method, url, params, data, headers, cookies, files, auth, timeout, allow_redirects, proxies, hooks, stream, verify, cert, json)\u001b[0m\n\u001b[1;32m    531\u001b[0m         }\n\u001b[1;32m    532\u001b[0m         \u001b[0msend_kwargs\u001b[0m\u001b[0;34m.\u001b[0m\u001b[0mupdate\u001b[0m\u001b[0;34m(\u001b[0m\u001b[0msettings\u001b[0m\u001b[0;34m)\u001b[0m\u001b[0;34m\u001b[0m\u001b[0;34m\u001b[0m\u001b[0m\n\u001b[0;32m--> 533\u001b[0;31m         \u001b[0mresp\u001b[0m \u001b[0;34m=\u001b[0m \u001b[0mself\u001b[0m\u001b[0;34m.\u001b[0m\u001b[0msend\u001b[0m\u001b[0;34m(\u001b[0m\u001b[0mprep\u001b[0m\u001b[0;34m,\u001b[0m \u001b[0;34m**\u001b[0m\u001b[0msend_kwargs\u001b[0m\u001b[0;34m)\u001b[0m\u001b[0;34m\u001b[0m\u001b[0;34m\u001b[0m\u001b[0m\n\u001b[0m\u001b[1;32m    534\u001b[0m \u001b[0;34m\u001b[0m\u001b[0m\n\u001b[1;32m    535\u001b[0m         \u001b[0;32mreturn\u001b[0m \u001b[0mresp\u001b[0m\u001b[0;34m\u001b[0m\u001b[0;34m\u001b[0m\u001b[0m\n",
            "\u001b[0;32m/usr/local/lib/python3.6/dist-packages/requests/sessions.py\u001b[0m in \u001b[0;36msend\u001b[0;34m(self, request, **kwargs)\u001b[0m\n\u001b[1;32m    644\u001b[0m \u001b[0;34m\u001b[0m\u001b[0m\n\u001b[1;32m    645\u001b[0m         \u001b[0;31m# Send the request\u001b[0m\u001b[0;34m\u001b[0m\u001b[0;34m\u001b[0m\u001b[0;34m\u001b[0m\u001b[0m\n\u001b[0;32m--> 646\u001b[0;31m         \u001b[0mr\u001b[0m \u001b[0;34m=\u001b[0m \u001b[0madapter\u001b[0m\u001b[0;34m.\u001b[0m\u001b[0msend\u001b[0m\u001b[0;34m(\u001b[0m\u001b[0mrequest\u001b[0m\u001b[0;34m,\u001b[0m \u001b[0;34m**\u001b[0m\u001b[0mkwargs\u001b[0m\u001b[0;34m)\u001b[0m\u001b[0;34m\u001b[0m\u001b[0;34m\u001b[0m\u001b[0m\n\u001b[0m\u001b[1;32m    647\u001b[0m \u001b[0;34m\u001b[0m\u001b[0m\n\u001b[1;32m    648\u001b[0m         \u001b[0;31m# Total elapsed time of the request (approximately)\u001b[0m\u001b[0;34m\u001b[0m\u001b[0;34m\u001b[0m\u001b[0;34m\u001b[0m\u001b[0m\n",
            "\u001b[0;32m/usr/local/lib/python3.6/dist-packages/requests/adapters.py\u001b[0m in \u001b[0;36msend\u001b[0;34m(self, request, stream, timeout, verify, cert, proxies)\u001b[0m\n\u001b[1;32m    447\u001b[0m                     \u001b[0mdecode_content\u001b[0m\u001b[0;34m=\u001b[0m\u001b[0;32mFalse\u001b[0m\u001b[0;34m,\u001b[0m\u001b[0;34m\u001b[0m\u001b[0;34m\u001b[0m\u001b[0m\n\u001b[1;32m    448\u001b[0m                     \u001b[0mretries\u001b[0m\u001b[0;34m=\u001b[0m\u001b[0mself\u001b[0m\u001b[0;34m.\u001b[0m\u001b[0mmax_retries\u001b[0m\u001b[0;34m,\u001b[0m\u001b[0;34m\u001b[0m\u001b[0;34m\u001b[0m\u001b[0m\n\u001b[0;32m--> 449\u001b[0;31m                     \u001b[0mtimeout\u001b[0m\u001b[0;34m=\u001b[0m\u001b[0mtimeout\u001b[0m\u001b[0;34m\u001b[0m\u001b[0;34m\u001b[0m\u001b[0m\n\u001b[0m\u001b[1;32m    450\u001b[0m                 )\n\u001b[1;32m    451\u001b[0m \u001b[0;34m\u001b[0m\u001b[0m\n",
            "\u001b[0;32m/usr/local/lib/python3.6/dist-packages/urllib3/connectionpool.py\u001b[0m in \u001b[0;36murlopen\u001b[0;34m(self, method, url, body, headers, retries, redirect, assert_same_host, timeout, pool_timeout, release_conn, chunked, body_pos, **response_kw)\u001b[0m\n\u001b[1;32m    598\u001b[0m                                                   \u001b[0mtimeout\u001b[0m\u001b[0;34m=\u001b[0m\u001b[0mtimeout_obj\u001b[0m\u001b[0;34m,\u001b[0m\u001b[0;34m\u001b[0m\u001b[0;34m\u001b[0m\u001b[0m\n\u001b[1;32m    599\u001b[0m                                                   \u001b[0mbody\u001b[0m\u001b[0;34m=\u001b[0m\u001b[0mbody\u001b[0m\u001b[0;34m,\u001b[0m \u001b[0mheaders\u001b[0m\u001b[0;34m=\u001b[0m\u001b[0mheaders\u001b[0m\u001b[0;34m,\u001b[0m\u001b[0;34m\u001b[0m\u001b[0;34m\u001b[0m\u001b[0m\n\u001b[0;32m--> 600\u001b[0;31m                                                   chunked=chunked)\n\u001b[0m\u001b[1;32m    601\u001b[0m \u001b[0;34m\u001b[0m\u001b[0m\n\u001b[1;32m    602\u001b[0m             \u001b[0;31m# If we're going to release the connection in ``finally:``, then\u001b[0m\u001b[0;34m\u001b[0m\u001b[0;34m\u001b[0m\u001b[0;34m\u001b[0m\u001b[0m\n",
            "\u001b[0;32m/usr/local/lib/python3.6/dist-packages/urllib3/connectionpool.py\u001b[0m in \u001b[0;36m_make_request\u001b[0;34m(self, conn, method, url, timeout, chunked, **httplib_request_kw)\u001b[0m\n\u001b[1;32m    341\u001b[0m         \u001b[0;31m# Trigger any extra validation we need to do.\u001b[0m\u001b[0;34m\u001b[0m\u001b[0;34m\u001b[0m\u001b[0;34m\u001b[0m\u001b[0m\n\u001b[1;32m    342\u001b[0m         \u001b[0;32mtry\u001b[0m\u001b[0;34m:\u001b[0m\u001b[0;34m\u001b[0m\u001b[0;34m\u001b[0m\u001b[0m\n\u001b[0;32m--> 343\u001b[0;31m             \u001b[0mself\u001b[0m\u001b[0;34m.\u001b[0m\u001b[0m_validate_conn\u001b[0m\u001b[0;34m(\u001b[0m\u001b[0mconn\u001b[0m\u001b[0;34m)\u001b[0m\u001b[0;34m\u001b[0m\u001b[0;34m\u001b[0m\u001b[0m\n\u001b[0m\u001b[1;32m    344\u001b[0m         \u001b[0;32mexcept\u001b[0m \u001b[0;34m(\u001b[0m\u001b[0mSocketTimeout\u001b[0m\u001b[0;34m,\u001b[0m \u001b[0mBaseSSLError\u001b[0m\u001b[0;34m)\u001b[0m \u001b[0;32mas\u001b[0m \u001b[0me\u001b[0m\u001b[0;34m:\u001b[0m\u001b[0;34m\u001b[0m\u001b[0;34m\u001b[0m\u001b[0m\n\u001b[1;32m    345\u001b[0m             \u001b[0;31m# Py2 raises this as a BaseSSLError, Py3 raises it as socket timeout.\u001b[0m\u001b[0;34m\u001b[0m\u001b[0;34m\u001b[0m\u001b[0;34m\u001b[0m\u001b[0m\n",
            "\u001b[0;32m/usr/local/lib/python3.6/dist-packages/urllib3/connectionpool.py\u001b[0m in \u001b[0;36m_validate_conn\u001b[0;34m(self, conn)\u001b[0m\n\u001b[1;32m    837\u001b[0m         \u001b[0;31m# Force connect early to allow us to validate the connection.\u001b[0m\u001b[0;34m\u001b[0m\u001b[0;34m\u001b[0m\u001b[0;34m\u001b[0m\u001b[0m\n\u001b[1;32m    838\u001b[0m         \u001b[0;32mif\u001b[0m \u001b[0;32mnot\u001b[0m \u001b[0mgetattr\u001b[0m\u001b[0;34m(\u001b[0m\u001b[0mconn\u001b[0m\u001b[0;34m,\u001b[0m \u001b[0;34m'sock'\u001b[0m\u001b[0;34m,\u001b[0m \u001b[0;32mNone\u001b[0m\u001b[0;34m)\u001b[0m\u001b[0;34m:\u001b[0m  \u001b[0;31m# AppEngine might not have  `.sock`\u001b[0m\u001b[0;34m\u001b[0m\u001b[0;34m\u001b[0m\u001b[0m\n\u001b[0;32m--> 839\u001b[0;31m             \u001b[0mconn\u001b[0m\u001b[0;34m.\u001b[0m\u001b[0mconnect\u001b[0m\u001b[0;34m(\u001b[0m\u001b[0;34m)\u001b[0m\u001b[0;34m\u001b[0m\u001b[0;34m\u001b[0m\u001b[0m\n\u001b[0m\u001b[1;32m    840\u001b[0m \u001b[0;34m\u001b[0m\u001b[0m\n\u001b[1;32m    841\u001b[0m         \u001b[0;32mif\u001b[0m \u001b[0;32mnot\u001b[0m \u001b[0mconn\u001b[0m\u001b[0;34m.\u001b[0m\u001b[0mis_verified\u001b[0m\u001b[0;34m:\u001b[0m\u001b[0;34m\u001b[0m\u001b[0;34m\u001b[0m\u001b[0m\n",
            "\u001b[0;32m/usr/local/lib/python3.6/dist-packages/urllib3/connection.py\u001b[0m in \u001b[0;36mconnect\u001b[0;34m(self)\u001b[0m\n\u001b[1;32m    342\u001b[0m             \u001b[0mca_cert_dir\u001b[0m\u001b[0;34m=\u001b[0m\u001b[0mself\u001b[0m\u001b[0;34m.\u001b[0m\u001b[0mca_cert_dir\u001b[0m\u001b[0;34m,\u001b[0m\u001b[0;34m\u001b[0m\u001b[0;34m\u001b[0m\u001b[0m\n\u001b[1;32m    343\u001b[0m             \u001b[0mserver_hostname\u001b[0m\u001b[0;34m=\u001b[0m\u001b[0mserver_hostname\u001b[0m\u001b[0;34m,\u001b[0m\u001b[0;34m\u001b[0m\u001b[0;34m\u001b[0m\u001b[0m\n\u001b[0;32m--> 344\u001b[0;31m             ssl_context=context)\n\u001b[0m\u001b[1;32m    345\u001b[0m \u001b[0;34m\u001b[0m\u001b[0m\n\u001b[1;32m    346\u001b[0m         \u001b[0;32mif\u001b[0m \u001b[0mself\u001b[0m\u001b[0;34m.\u001b[0m\u001b[0massert_fingerprint\u001b[0m\u001b[0;34m:\u001b[0m\u001b[0;34m\u001b[0m\u001b[0;34m\u001b[0m\u001b[0m\n",
            "\u001b[0;32m/usr/local/lib/python3.6/dist-packages/urllib3/util/ssl_.py\u001b[0m in \u001b[0;36mssl_wrap_socket\u001b[0;34m(sock, keyfile, certfile, cert_reqs, ca_certs, server_hostname, ssl_version, ciphers, ssl_context, ca_cert_dir)\u001b[0m\n\u001b[1;32m    343\u001b[0m             or IS_SECURETRANSPORT):\n\u001b[1;32m    344\u001b[0m         \u001b[0;32mif\u001b[0m \u001b[0mHAS_SNI\u001b[0m \u001b[0;32mand\u001b[0m \u001b[0mserver_hostname\u001b[0m \u001b[0;32mis\u001b[0m \u001b[0;32mnot\u001b[0m \u001b[0;32mNone\u001b[0m\u001b[0;34m:\u001b[0m\u001b[0;34m\u001b[0m\u001b[0;34m\u001b[0m\u001b[0m\n\u001b[0;32m--> 345\u001b[0;31m             \u001b[0;32mreturn\u001b[0m \u001b[0mcontext\u001b[0m\u001b[0;34m.\u001b[0m\u001b[0mwrap_socket\u001b[0m\u001b[0;34m(\u001b[0m\u001b[0msock\u001b[0m\u001b[0;34m,\u001b[0m \u001b[0mserver_hostname\u001b[0m\u001b[0;34m=\u001b[0m\u001b[0mserver_hostname\u001b[0m\u001b[0;34m)\u001b[0m\u001b[0;34m\u001b[0m\u001b[0;34m\u001b[0m\u001b[0m\n\u001b[0m\u001b[1;32m    346\u001b[0m \u001b[0;34m\u001b[0m\u001b[0m\n\u001b[1;32m    347\u001b[0m         warnings.warn(\n",
            "\u001b[0;32m/usr/lib/python3.6/ssl.py\u001b[0m in \u001b[0;36mwrap_socket\u001b[0;34m(self, sock, server_side, do_handshake_on_connect, suppress_ragged_eofs, server_hostname, session)\u001b[0m\n\u001b[1;32m    405\u001b[0m                          \u001b[0msuppress_ragged_eofs\u001b[0m\u001b[0;34m=\u001b[0m\u001b[0msuppress_ragged_eofs\u001b[0m\u001b[0;34m,\u001b[0m\u001b[0;34m\u001b[0m\u001b[0;34m\u001b[0m\u001b[0m\n\u001b[1;32m    406\u001b[0m                          \u001b[0mserver_hostname\u001b[0m\u001b[0;34m=\u001b[0m\u001b[0mserver_hostname\u001b[0m\u001b[0;34m,\u001b[0m\u001b[0;34m\u001b[0m\u001b[0;34m\u001b[0m\u001b[0m\n\u001b[0;32m--> 407\u001b[0;31m                          _context=self, _session=session)\n\u001b[0m\u001b[1;32m    408\u001b[0m \u001b[0;34m\u001b[0m\u001b[0m\n\u001b[1;32m    409\u001b[0m     def wrap_bio(self, incoming, outgoing, server_side=False,\n",
            "\u001b[0;32m/usr/lib/python3.6/ssl.py\u001b[0m in \u001b[0;36m__init__\u001b[0;34m(self, sock, keyfile, certfile, server_side, cert_reqs, ssl_version, ca_certs, do_handshake_on_connect, family, type, proto, fileno, suppress_ragged_eofs, npn_protocols, ciphers, server_hostname, _context, _session)\u001b[0m\n\u001b[1;32m    815\u001b[0m                         \u001b[0;31m# non-blocking\u001b[0m\u001b[0;34m\u001b[0m\u001b[0;34m\u001b[0m\u001b[0;34m\u001b[0m\u001b[0m\n\u001b[1;32m    816\u001b[0m                         \u001b[0;32mraise\u001b[0m \u001b[0mValueError\u001b[0m\u001b[0;34m(\u001b[0m\u001b[0;34m\"do_handshake_on_connect should not be specified for non-blocking sockets\"\u001b[0m\u001b[0;34m)\u001b[0m\u001b[0;34m\u001b[0m\u001b[0;34m\u001b[0m\u001b[0m\n\u001b[0;32m--> 817\u001b[0;31m                     \u001b[0mself\u001b[0m\u001b[0;34m.\u001b[0m\u001b[0mdo_handshake\u001b[0m\u001b[0;34m(\u001b[0m\u001b[0;34m)\u001b[0m\u001b[0;34m\u001b[0m\u001b[0;34m\u001b[0m\u001b[0m\n\u001b[0m\u001b[1;32m    818\u001b[0m \u001b[0;34m\u001b[0m\u001b[0m\n\u001b[1;32m    819\u001b[0m             \u001b[0;32mexcept\u001b[0m \u001b[0;34m(\u001b[0m\u001b[0mOSError\u001b[0m\u001b[0;34m,\u001b[0m \u001b[0mValueError\u001b[0m\u001b[0;34m)\u001b[0m\u001b[0;34m:\u001b[0m\u001b[0;34m\u001b[0m\u001b[0;34m\u001b[0m\u001b[0m\n",
            "\u001b[0;32m/usr/lib/python3.6/ssl.py\u001b[0m in \u001b[0;36mdo_handshake\u001b[0;34m(self, block)\u001b[0m\n\u001b[1;32m   1075\u001b[0m             \u001b[0;32mif\u001b[0m \u001b[0mtimeout\u001b[0m \u001b[0;34m==\u001b[0m \u001b[0;36m0.0\u001b[0m \u001b[0;32mand\u001b[0m \u001b[0mblock\u001b[0m\u001b[0;34m:\u001b[0m\u001b[0;34m\u001b[0m\u001b[0;34m\u001b[0m\u001b[0m\n\u001b[1;32m   1076\u001b[0m                 \u001b[0mself\u001b[0m\u001b[0;34m.\u001b[0m\u001b[0msettimeout\u001b[0m\u001b[0;34m(\u001b[0m\u001b[0;32mNone\u001b[0m\u001b[0;34m)\u001b[0m\u001b[0;34m\u001b[0m\u001b[0;34m\u001b[0m\u001b[0m\n\u001b[0;32m-> 1077\u001b[0;31m             \u001b[0mself\u001b[0m\u001b[0;34m.\u001b[0m\u001b[0m_sslobj\u001b[0m\u001b[0;34m.\u001b[0m\u001b[0mdo_handshake\u001b[0m\u001b[0;34m(\u001b[0m\u001b[0;34m)\u001b[0m\u001b[0;34m\u001b[0m\u001b[0;34m\u001b[0m\u001b[0m\n\u001b[0m\u001b[1;32m   1078\u001b[0m         \u001b[0;32mfinally\u001b[0m\u001b[0;34m:\u001b[0m\u001b[0;34m\u001b[0m\u001b[0;34m\u001b[0m\u001b[0m\n\u001b[1;32m   1079\u001b[0m             \u001b[0mself\u001b[0m\u001b[0;34m.\u001b[0m\u001b[0msettimeout\u001b[0m\u001b[0;34m(\u001b[0m\u001b[0mtimeout\u001b[0m\u001b[0;34m)\u001b[0m\u001b[0;34m\u001b[0m\u001b[0;34m\u001b[0m\u001b[0m\n",
            "\u001b[0;32m/usr/lib/python3.6/ssl.py\u001b[0m in \u001b[0;36mdo_handshake\u001b[0;34m(self)\u001b[0m\n\u001b[1;32m    687\u001b[0m     \u001b[0;32mdef\u001b[0m \u001b[0mdo_handshake\u001b[0m\u001b[0;34m(\u001b[0m\u001b[0mself\u001b[0m\u001b[0;34m)\u001b[0m\u001b[0;34m:\u001b[0m\u001b[0;34m\u001b[0m\u001b[0;34m\u001b[0m\u001b[0m\n\u001b[1;32m    688\u001b[0m         \u001b[0;34m\"\"\"Start the SSL/TLS handshake.\"\"\"\u001b[0m\u001b[0;34m\u001b[0m\u001b[0;34m\u001b[0m\u001b[0m\n\u001b[0;32m--> 689\u001b[0;31m         \u001b[0mself\u001b[0m\u001b[0;34m.\u001b[0m\u001b[0m_sslobj\u001b[0m\u001b[0;34m.\u001b[0m\u001b[0mdo_handshake\u001b[0m\u001b[0;34m(\u001b[0m\u001b[0;34m)\u001b[0m\u001b[0;34m\u001b[0m\u001b[0;34m\u001b[0m\u001b[0m\n\u001b[0m\u001b[1;32m    690\u001b[0m         \u001b[0;32mif\u001b[0m \u001b[0mself\u001b[0m\u001b[0;34m.\u001b[0m\u001b[0mcontext\u001b[0m\u001b[0;34m.\u001b[0m\u001b[0mcheck_hostname\u001b[0m\u001b[0;34m:\u001b[0m\u001b[0;34m\u001b[0m\u001b[0;34m\u001b[0m\u001b[0m\n\u001b[1;32m    691\u001b[0m             \u001b[0;32mif\u001b[0m \u001b[0;32mnot\u001b[0m \u001b[0mself\u001b[0m\u001b[0;34m.\u001b[0m\u001b[0mserver_hostname\u001b[0m\u001b[0;34m:\u001b[0m\u001b[0;34m\u001b[0m\u001b[0;34m\u001b[0m\u001b[0m\n",
            "\u001b[0;31mKeyboardInterrupt\u001b[0m: "
          ]
        }
      ]
    },
    {
      "cell_type": "code",
      "metadata": {
        "id": "NQjY_GBkni8A",
        "colab_type": "code",
        "colab": {
          "base_uri": "https://localhost:8080/",
          "height": 136
        },
        "outputId": "efb250ec-b2fc-4978-a751-d48cc257a570"
      },
      "source": [
        "!ls -la data"
      ],
      "execution_count": 33,
      "outputs": [
        {
          "output_type": "stream",
          "text": [
            "total 24\n",
            "drwxr-xr-x 2 root root 4096 Jan 30 23:03 .\n",
            "drwxr-xr-x 1 root root 4096 Jan 30 22:47 ..\n",
            "-rw-r--r-- 1 root root 1542 Jan 30 23:03 8110202389.txt\n",
            "-rw-r--r-- 1 root root 1691 Jan 30 23:03 8110233299.txt\n",
            "-rw-r--r-- 1 root root 1568 Jan 30 23:03 8111210037.txt\n",
            "-rw-r--r-- 1 root root  481 Jan 30 23:03 8111210869.txt\n"
          ],
          "name": "stdout"
        }
      ]
    },
    {
      "cell_type": "markdown",
      "metadata": {
        "id": "t6CltOIKFkSf",
        "colab_type": "text"
      },
      "source": [
        "### 2.2 Copy data to the right place"
      ]
    },
    {
      "cell_type": "markdown",
      "metadata": {
        "id": "gZWaWm-FFJti",
        "colab_type": "text"
      },
      "source": [
        "Finally We copy it to the right place"
      ]
    },
    {
      "cell_type": "code",
      "metadata": {
        "id": "-CUCvWbmcVVC",
        "colab_type": "code",
        "colab": {}
      },
      "source": [
        "!mv -f train.txt BERT-NER/data/train.txt\n",
        "!mv -f dev.txt BERT-NER/data/dev.txt\n",
        "!mv -f test.txt BERT-NER/data/test.txt"
      ],
      "execution_count": 0,
      "outputs": []
    },
    {
      "cell_type": "markdown",
      "metadata": {
        "id": "KhHr2PRbFslM",
        "colab_type": "text"
      },
      "source": [
        "## Step 3: Preparing models"
      ]
    },
    {
      "cell_type": "markdown",
      "metadata": {
        "id": "hLdbAlUpF7hz",
        "colab_type": "text"
      },
      "source": [
        "We either download official Bert model trained on Wikipedia for multiple languages, or use our own pre-trained model (for example pre-trained on Slovak Opensubtitles https://towardsdatascience.com/pre-training-bert-from-scratch-with-cloud-tpu-6e2f71028379)"
      ]
    },
    {
      "cell_type": "code",
      "metadata": {
        "id": "pB27C2zGai63",
        "colab_type": "code",
        "colab": {}
      },
      "source": [
        "!wget https://storage.googleapis.com/bert_models/2018_11_23/multi_cased_L-12_H-768_A-12.zip\n"
      ],
      "execution_count": 0,
      "outputs": []
    },
    {
      "cell_type": "code",
      "metadata": {
        "id": "3CJvCNmOcjlB",
        "colab_type": "code",
        "colab": {}
      },
      "source": [
        "!unzip multi_cased_L-12_H-768_A-12.zip -d BERT-NER/\n",
        "!ls -la BERT-NER/"
      ],
      "execution_count": 0,
      "outputs": []
    },
    {
      "cell_type": "markdown",
      "metadata": {
        "id": "oRQd4-v0nQqH",
        "colab_type": "text"
      },
      "source": [
        "## Step 4: Training model on cloud GPU"
      ]
    },
    {
      "cell_type": "markdown",
      "metadata": {
        "id": "HhEBiZrvGjBR",
        "colab_type": "text"
      },
      "source": [
        "Training may take more than half and hour. Depending on your dataset and currently available GPU."
      ]
    },
    {
      "cell_type": "code",
      "metadata": {
        "id": "iCi2oSdInRkC",
        "colab_type": "code",
        "colab": {}
      },
      "source": [
        "!python BERT-NER/BERT_NER.py \\\n",
        " --task_name=\"NER\" \\\n",
        " --do_lower_case=False \\\n",
        " --crf=False \\\n",
        " --do_train=True \\\n",
        " --do_eval=True \\\n",
        " --do_predict=True \\\n",
        " --data_dir=BERT-NER/data \\\n",
        " --middle_output=BERT-NER/middle_data \\\n",
        " --vocab_file=BERT-NER/multi_cased_L-12_H-768_A-12/vocab.txt \\\n",
        " --bert_config_file=BERT-NER/multi_cased_L-12_H-768_A-12/bert_config.json \\\n",
        " --init_checkpoint=BERT-NER/multi_cased_L-12_H-768_A-12/bert_model.ckpt \\\n",
        " --max_seq_length=128 \\\n",
        " --train_batch_size=32 \\\n",
        " --learning_rate=2e-5 \\\n",
        " --num_train_epochs=3.0 \\\n",
        " --output_dir=BERT-NER/output/result_dir \\\n",
        " --labels=\"[PAD],O,Sud,Osoba,Adresa,Organizacia,ICO,Narodenie,X,[CLS],[SEP]\""
      ],
      "execution_count": 0,
      "outputs": []
    },
    {
      "cell_type": "markdown",
      "metadata": {
        "id": "sqdLXhL4Gun5",
        "colab_type": "text"
      },
      "source": [
        "Alternatively you can train on TPU if you fancy TPU. You would need to configure it with GCS though."
      ]
    },
    {
      "cell_type": "code",
      "metadata": {
        "id": "SODUgwfMipPp",
        "colab_type": "code",
        "colab": {}
      },
      "source": [
        "!python BERT-NER/BERT_NER.py \\\n",
        " --task_name=\"NER\" \\\n",
        " --do_lower_case=False \\\n",
        " --crf=False \\\n",
        " --do_train=True \\\n",
        " --do_eval=True \\\n",
        " --do_predict=True \\\n",
        " --data_dir=BERT-NER/data \\\n",
        " --middle_output=BERT-NER/middle_data \\\n",
        " --vocab_file=BERT-NER/multi_cased_L-12_H-768_A-12/vocab.txt \\\n",
        " --bert_config_file=BERT-NER/multi_cased_L-12_H-768_A-12/bert_config.json \\\n",
        " --init_checkpoint=BERT-NER/multi_cased_L-12_H-768_A-12/bert_model.ckpt \\\n",
        " --max_seq_length=128 \\\n",
        " --train_batch_size=32 \\\n",
        " --learning_rate=2e-5 \\\n",
        " --num_train_epochs=3.0 \\\n",
        " --output_dir=BERT-NER/output/result_dir \\\n",
        " --use_tpu=True \\\n",
        " --tpu_name=grpc://10.110.157.90:8470"
      ],
      "execution_count": 0,
      "outputs": []
    },
    {
      "cell_type": "markdown",
      "metadata": {
        "id": "rYtwtDnesaQQ",
        "colab_type": "text"
      },
      "source": [
        "We will check the models"
      ]
    },
    {
      "cell_type": "code",
      "metadata": {
        "id": "0gngtEZWqVhY",
        "colab_type": "code",
        "colab": {}
      },
      "source": [
        "!ls -la BERT-NER/output/result_dir\n",
        "!ls -la BERT-NER/output/result_dir/eval"
      ],
      "execution_count": 0,
      "outputs": []
    },
    {
      "cell_type": "markdown",
      "metadata": {
        "id": "32N9EhE7ZD3p",
        "colab_type": "text"
      },
      "source": [
        "## Step 5 Evaluate the results"
      ]
    },
    {
      "cell_type": "markdown",
      "metadata": {
        "id": "6PmZ2VMtYlkY",
        "colab_type": "text"
      },
      "source": [
        "Optionally upload results or use the one that are the result of this run.\n",
        "\n"
      ]
    },
    {
      "cell_type": "code",
      "metadata": {
        "id": "0R7aWvs1SKUP",
        "colab_type": "code",
        "colab": {}
      },
      "source": [
        "from google.colab import files\n",
        "uploadedLabels = files.upload()"
      ],
      "execution_count": 0,
      "outputs": []
    },
    {
      "cell_type": "markdown",
      "metadata": {
        "id": "sxrlIaMLHvOC",
        "colab_type": "text"
      },
      "source": [
        "We can evaluate the results:"
      ]
    },
    {
      "cell_type": "code",
      "metadata": {
        "id": "bIw2fY_zHxYh",
        "colab_type": "code",
        "colab": {}
      },
      "source": [
        "from collections import Counter\n",
        "\n",
        "EVAL_RESULT = \"BERT-NER/output/result_dir/label_test.txt\" #@param {type:\"string\"}\n",
        "rf = open(EVAL_RESULT, 'r', encoding='utf8')\n",
        "\n",
        "entityTP = Counter()\n",
        "entityFP = Counter()\n",
        "entityFN = Counter()\n",
        "labels = set()\n",
        "for line in rf:\n",
        "  tokenInfo = line.split('\\t')\n",
        "  if len(tokenInfo) == 3:\n",
        "    gold = tokenInfo[1].strip()\n",
        "    answer = tokenInfo[2].strip()\n",
        "    labels.add(gold)\n",
        "    labels.add(answer)\n",
        "    if answer == gold:\n",
        "      entityTP[answer] += 1\n",
        "    else:\n",
        "      if answer == 'O':\n",
        "        entityFN[gold] += 1\n",
        "      elif gold == 'O':\n",
        "        entityFP[answer] += 1\n",
        "      else:\n",
        "        entityFN[gold] += 1\n",
        "        entityFP[answer] += 1\n",
        "\n",
        "for label in labels:\n",
        "  if entityTP[label]+entityFP[label] == 0:\n",
        "    precision = 0\n",
        "  else:\n",
        "    precision = entityTP[label]/(entityTP[label]+entityFP[label])\n",
        "  \n",
        "  if entityTP[label]+entityFN[label] == 0:\n",
        "    recall = 0\n",
        "  else:\n",
        "    recall = entityTP[label]/(entityTP[label]+entityFN[label])\n",
        "  \n",
        "  if precision+recall == 0:\n",
        "    f1 = 0\n",
        "  else:\n",
        "    f1 = 2*(precision*recall)/(precision+recall)\n",
        "  log.info(\"-------------------------\")\n",
        "  log.info(\"Entity %s\" % label)\n",
        "  log.info(\"TP: %s FP: %s FN: %s\" % (entityTP[label], entityFP[label], entityFN[label]))\n",
        "  log.info(\"Precision: %s\" % precision)\n",
        "  log.info(\"Recall: %s\" % recall)\n",
        "  log.info(\"F1: %s\" % f1)"
      ],
      "execution_count": 0,
      "outputs": []
    },
    {
      "cell_type": "markdown",
      "metadata": {
        "id": "42W8gCm9HJGi",
        "colab_type": "text"
      },
      "source": [
        "## Step 6: Uploading model to GCS (optional)"
      ]
    },
    {
      "cell_type": "markdown",
      "metadata": {
        "id": "vUyf7xfJQ3jp",
        "colab_type": "text"
      },
      "source": [
        "You do not need to upload the model to GCS. Just use Left panel where you can download files directly."
      ]
    },
    {
      "cell_type": "code",
      "metadata": {
        "id": "gDtrt68QQIHs",
        "colab_type": "code",
        "cellView": "both",
        "colab": {}
      },
      "source": [
        "BUCKET_NAME = \"ardevop-sk-bert-sk\" #@param {type:\"string\"}\n",
        "MODEL_DIR = \"model_ner\" #@param {type:\"string\"}\n",
        "SRC_DIR = \"BERT-NER/output/result_dir\" #@param {type:\"string\"}\n",
        "tf.gfile.MkDir(MODEL_DIR)\n",
        "\n",
        "if not BUCKET_NAME:\n",
        "  log.warning(\"WARNING: BUCKET_NAME is not set. \"\n",
        "              \"You will not be able to train the model.\")"
      ],
      "execution_count": 0,
      "outputs": []
    },
    {
      "cell_type": "code",
      "metadata": {
        "id": "txgrEDugRG48",
        "colab_type": "code",
        "colab": {}
      },
      "source": [
        "if BUCKET_NAME:\n",
        "  !gsutil cp -r $SRC_DIR gs://$BUCKET_NAME/$MODEL_DIR"
      ],
      "execution_count": 0,
      "outputs": []
    },
    {
      "cell_type": "markdown",
      "metadata": {
        "id": "O-DdbjZnHUmP",
        "colab_type": "text"
      },
      "source": [
        "## Step 7: Serving BERT model for NER as a Service"
      ]
    },
    {
      "cell_type": "markdown",
      "metadata": {
        "id": "BdEM8pq3HZ-b",
        "colab_type": "text"
      },
      "source": [
        "TBD: https://github.com/Ardevop-sk/bert-as-service"
      ]
    },
    {
      "cell_type": "markdown",
      "metadata": {
        "id": "u17_Xk2KHnfH",
        "colab_type": "text"
      },
      "source": [
        "## Step 8: Testing the services"
      ]
    },
    {
      "cell_type": "markdown",
      "metadata": {
        "id": "Lc_x8s2NH0yQ",
        "colab_type": "text"
      },
      "source": [
        "TBD: Swagger UI"
      ]
    }
  ]
}